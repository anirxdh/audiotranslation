{
  "cells": [
    {
      "cell_type": "markdown",
      "source": [
        "\n",
        "\n",
        "\n",
        "#session 1\n",
        "\n"
      ],
      "metadata": {
        "id": "bEBIcHCP8Gye"
      }
    },
    {
      "cell_type": "code",
      "execution_count": null,
      "metadata": {
        "colab": {
          "base_uri": "https://localhost:8080/"
        },
        "id": "alJN-ygNDEI7",
        "outputId": "348f2034-fc29-43e5-9466-70201b39e19e"
      },
      "outputs": [
        {
          "name": "stdout",
          "output_type": "stream",
          "text": [
            "Looking in indexes: https://pypi.org/simple, https://us-python.pkg.dev/colab-wheels/public/simple/\n",
            "Requirement already satisfied: spacy in /usr/local/lib/python3.7/dist-packages (3.4.0)\n",
            "Requirement already satisfied: pathy>=0.3.5 in /usr/local/lib/python3.7/dist-packages (from spacy) (0.6.2)\n",
            "Requirement already satisfied: packaging>=20.0 in /usr/local/lib/python3.7/dist-packages (from spacy) (21.3)\n",
            "Requirement already satisfied: catalogue<2.1.0,>=2.0.6 in /usr/local/lib/python3.7/dist-packages (from spacy) (2.0.7)\n",
            "Requirement already satisfied: jinja2 in /usr/local/lib/python3.7/dist-packages (from spacy) (2.11.3)\n",
            "Requirement already satisfied: pydantic!=1.8,!=1.8.1,<1.10.0,>=1.7.4 in /usr/local/lib/python3.7/dist-packages (from spacy) (1.8.2)\n",
            "Requirement already satisfied: requests<3.0.0,>=2.13.0 in /usr/local/lib/python3.7/dist-packages (from spacy) (2.23.0)\n",
            "Requirement already satisfied: preshed<3.1.0,>=3.0.2 in /usr/local/lib/python3.7/dist-packages (from spacy) (3.0.6)\n",
            "Requirement already satisfied: murmurhash<1.1.0,>=0.28.0 in /usr/local/lib/python3.7/dist-packages (from spacy) (1.0.7)\n",
            "Requirement already satisfied: wasabi<1.1.0,>=0.9.1 in /usr/local/lib/python3.7/dist-packages (from spacy) (0.9.1)\n",
            "Requirement already satisfied: spacy-legacy<3.1.0,>=3.0.9 in /usr/local/lib/python3.7/dist-packages (from spacy) (3.0.9)\n",
            "Requirement already satisfied: setuptools in /usr/local/lib/python3.7/dist-packages (from spacy) (57.4.0)\n",
            "Requirement already satisfied: cymem<2.1.0,>=2.0.2 in /usr/local/lib/python3.7/dist-packages (from spacy) (2.0.6)\n",
            "Requirement already satisfied: numpy>=1.15.0 in /usr/local/lib/python3.7/dist-packages (from spacy) (1.21.6)\n",
            "Requirement already satisfied: typing-extensions<4.2.0,>=3.7.4 in /usr/local/lib/python3.7/dist-packages (from spacy) (4.1.1)\n",
            "Requirement already satisfied: srsly<3.0.0,>=2.4.3 in /usr/local/lib/python3.7/dist-packages (from spacy) (2.4.3)\n",
            "Requirement already satisfied: spacy-loggers<2.0.0,>=1.0.0 in /usr/local/lib/python3.7/dist-packages (from spacy) (1.0.2)\n",
            "Requirement already satisfied: thinc<8.2.0,>=8.1.0 in /usr/local/lib/python3.7/dist-packages (from spacy) (8.1.0)\n",
            "Requirement already satisfied: tqdm<5.0.0,>=4.38.0 in /usr/local/lib/python3.7/dist-packages (from spacy) (4.64.0)\n",
            "Requirement already satisfied: langcodes<4.0.0,>=3.2.0 in /usr/local/lib/python3.7/dist-packages (from spacy) (3.3.0)\n",
            "Requirement already satisfied: typer<0.5.0,>=0.3.0 in /usr/local/lib/python3.7/dist-packages (from spacy) (0.4.2)\n",
            "Requirement already satisfied: zipp>=0.5 in /usr/local/lib/python3.7/dist-packages (from catalogue<2.1.0,>=2.0.6->spacy) (3.8.0)\n",
            "Requirement already satisfied: pyparsing!=3.0.5,>=2.0.2 in /usr/local/lib/python3.7/dist-packages (from packaging>=20.0->spacy) (3.0.9)\n",
            "Requirement already satisfied: smart-open<6.0.0,>=5.2.1 in /usr/local/lib/python3.7/dist-packages (from pathy>=0.3.5->spacy) (5.2.1)\n",
            "Requirement already satisfied: urllib3!=1.25.0,!=1.25.1,<1.26,>=1.21.1 in /usr/local/lib/python3.7/dist-packages (from requests<3.0.0,>=2.13.0->spacy) (1.24.3)\n",
            "Requirement already satisfied: chardet<4,>=3.0.2 in /usr/local/lib/python3.7/dist-packages (from requests<3.0.0,>=2.13.0->spacy) (3.0.4)\n",
            "Requirement already satisfied: certifi>=2017.4.17 in /usr/local/lib/python3.7/dist-packages (from requests<3.0.0,>=2.13.0->spacy) (2022.6.15)\n",
            "Requirement already satisfied: idna<3,>=2.5 in /usr/local/lib/python3.7/dist-packages (from requests<3.0.0,>=2.13.0->spacy) (2.10)\n",
            "Requirement already satisfied: blis<0.8.0,>=0.7.8 in /usr/local/lib/python3.7/dist-packages (from thinc<8.2.0,>=8.1.0->spacy) (0.7.8)\n",
            "Requirement already satisfied: click<9.0.0,>=7.1.1 in /usr/local/lib/python3.7/dist-packages (from typer<0.5.0,>=0.3.0->spacy) (7.1.2)\n",
            "Requirement already satisfied: MarkupSafe>=0.23 in /usr/local/lib/python3.7/dist-packages (from jinja2->spacy) (2.0.1)\n"
          ]
        }
      ],
      "source": [
        "pip install -U spacy \n"
      ]
    },
    {
      "cell_type": "code",
      "execution_count": null,
      "metadata": {
        "colab": {
          "base_uri": "https://localhost:8080/"
        },
        "id": "0YKx8JY_D4jw",
        "outputId": "34825528-42a3-44ff-d4cb-b9864b1fa874"
      },
      "outputs": [
        {
          "name": "stdout",
          "output_type": "stream",
          "text": [
            "Looking in indexes: https://pypi.org/simple, https://us-python.pkg.dev/colab-wheels/public/simple/\n",
            "Requirement already satisfied: textblob in /usr/local/lib/python3.7/dist-packages (0.15.3)\n",
            "Requirement already satisfied: nltk>=3.1 in /usr/local/lib/python3.7/dist-packages (from textblob) (3.7)\n",
            "Requirement already satisfied: click in /usr/local/lib/python3.7/dist-packages (from nltk>=3.1->textblob) (7.1.2)\n",
            "Requirement already satisfied: joblib in /usr/local/lib/python3.7/dist-packages (from nltk>=3.1->textblob) (1.1.0)\n",
            "Requirement already satisfied: regex>=2021.8.3 in /usr/local/lib/python3.7/dist-packages (from nltk>=3.1->textblob) (2022.6.2)\n",
            "Requirement already satisfied: tqdm in /usr/local/lib/python3.7/dist-packages (from nltk>=3.1->textblob) (4.64.0)\n"
          ]
        }
      ],
      "source": [
        "pip install textblob\n"
      ]
    },
    {
      "cell_type": "code",
      "execution_count": null,
      "metadata": {
        "colab": {
          "base_uri": "https://localhost:8080/"
        },
        "id": "41-9oKc4D5Xw",
        "outputId": "b5fbee89-e76e-4e23-990d-7ac4c48ae496"
      },
      "outputs": [
        {
          "name": "stdout",
          "output_type": "stream",
          "text": [
            "Looking in indexes: https://pypi.org/simple, https://us-python.pkg.dev/colab-wheels/public/simple/\n",
            "Requirement already satisfied: nltk in /usr/local/lib/python3.7/dist-packages (3.7)\n",
            "Requirement already satisfied: click in /usr/local/lib/python3.7/dist-packages (from nltk) (7.1.2)\n",
            "Requirement already satisfied: regex>=2021.8.3 in /usr/local/lib/python3.7/dist-packages (from nltk) (2022.6.2)\n",
            "Requirement already satisfied: joblib in /usr/local/lib/python3.7/dist-packages (from nltk) (1.1.0)\n",
            "Requirement already satisfied: tqdm in /usr/local/lib/python3.7/dist-packages (from nltk) (4.64.0)\n"
          ]
        }
      ],
      "source": [
        "pip install nltk\n"
      ]
    },
    {
      "cell_type": "code",
      "execution_count": null,
      "metadata": {
        "colab": {
          "base_uri": "https://localhost:8080/"
        },
        "id": "0S2QdttDEHiw",
        "outputId": "44d67d1a-c57c-4d84-c45f-0bc79d0b76fa"
      },
      "outputs": [
        {
          "name": "stdout",
          "output_type": "stream",
          "text": [
            "NLTK Downloader\n",
            "---------------------------------------------------------------------------\n",
            "    d) Download   l) List    u) Update   c) Config   h) Help   q) Quit\n",
            "---------------------------------------------------------------------------\n",
            "Downloader> u\n",
            "\n",
            "Nothing to update.\n",
            "\n",
            "---------------------------------------------------------------------------\n",
            "    d) Download   l) List    u) Update   c) Config   h) Help   q) Quit\n",
            "---------------------------------------------------------------------------\n",
            "Downloader> q\n"
          ]
        },
        {
          "data": {
            "text/plain": [
              "True"
            ]
          },
          "execution_count": 10,
          "metadata": {},
          "output_type": "execute_result"
        }
      ],
      "source": [
        "import nltk\n",
        "nltk.download()"
      ]
    },
    {
      "cell_type": "code",
      "execution_count": null,
      "metadata": {
        "colab": {
          "base_uri": "https://localhost:8080/"
        },
        "id": "r9RhzR5lGVkp",
        "outputId": "cb6c062f-c4ae-4e5a-b705-779fbcb31364"
      },
      "outputs": [
        {
          "name": "stderr",
          "output_type": "stream",
          "text": [
            "[nltk_data] Downloading package punkt to /root/nltk_data...\n",
            "[nltk_data]   Unzipping tokenizers/punkt.zip.\n"
          ]
        },
        {
          "data": {
            "text/plain": [
              "True"
            ]
          },
          "execution_count": 19,
          "metadata": {},
          "output_type": "execute_result"
        }
      ],
      "source": [
        "nltk.download('punkt')"
      ]
    },
    {
      "cell_type": "markdown",
      "metadata": {
        "id": "0N-93d4lOS3x"
      },
      "source": [
        "Tokenization"
      ]
    },
    {
      "cell_type": "code",
      "execution_count": null,
      "metadata": {
        "id": "h5-Hjt5IEZyF"
      },
      "outputs": [],
      "source": [
        "from nltk.tokenize import sent_tokenize, word_tokenize\n"
      ]
    },
    {
      "cell_type": "code",
      "execution_count": null,
      "metadata": {
        "colab": {
          "base_uri": "https://localhost:8080/"
        },
        "id": "PcwRZ_yuF7ey",
        "outputId": "7edcec60-c487-434f-d470-0493ea22cf9c"
      },
      "outputs": [
        {
          "name": "stdout",
          "output_type": "stream",
          "text": [
            "['hello anirudh , you are so handsome']\n"
          ]
        }
      ],
      "source": [
        "EXAMPLE_TEXT = \"hello anirudh , you are so handsome\"\n",
        "\n",
        "print(sent_tokenize(EXAMPLE_TEXT))"
      ]
    },
    {
      "cell_type": "code",
      "execution_count": null,
      "metadata": {
        "colab": {
          "base_uri": "https://localhost:8080/"
        },
        "id": "IB2MthqbHCDC",
        "outputId": "a988bd96-2179-48d0-a7fb-d9ee50329f11"
      },
      "outputs": [
        {
          "name": "stdout",
          "output_type": "stream",
          "text": [
            "['hello', 'anirudh', ',', 'you', 'are', 'so', 'handsome']\n"
          ]
        }
      ],
      "source": [
        "print(word_tokenize(EXAMPLE_TEXT))"
      ]
    },
    {
      "cell_type": "code",
      "execution_count": null,
      "metadata": {
        "colab": {
          "base_uri": "https://localhost:8080/"
        },
        "id": "VlEVp_jqHG2s",
        "outputId": "12ce87e4-4d5c-4ac7-822f-a3e6b7d283e0"
      },
      "outputs": [
        {
          "data": {
            "text/plain": [
              "WordList(['Data', 'is', 'a', 'new', 'fuel', 'Explicit', 'is', 'better', 'than', 'implicit', 'Simple', 'is', 'better', 'than', 'complex'])"
            ]
          },
          "execution_count": 25,
          "metadata": {},
          "output_type": "execute_result"
        }
      ],
      "source": [
        "from textblob import TextBlob\n",
        "zen = TextBlob(\"Data is a new fuel. \"\n",
        "               \"Explicit is better than implicit. \"\n",
        "               \"Simple is better than complex. \")\n",
        "               \n",
        "zen.words"
      ]
    },
    {
      "cell_type": "code",
      "execution_count": null,
      "metadata": {
        "id": "OH2hN1-4Ney1"
      },
      "outputs": [],
      "source": [
        "from spacy.lang.en import English\n"
      ]
    },
    {
      "cell_type": "code",
      "execution_count": null,
      "metadata": {
        "colab": {
          "base_uri": "https://localhost:8080/"
        },
        "id": "45mKRIShNFcU",
        "outputId": "bc4742b1-6c28-422d-8b22-3f58ddfd2bba"
      },
      "outputs": [
        {
          "name": "stderr",
          "output_type": "stream",
          "text": [
            "/usr/local/lib/python3.7/dist-packages/spacy/util.py:865: UserWarning: [W095] Model 'en_core_web_sm' (3.3.0) was trained with spaCy v3.3 and may not be 100% compatible with the current version (3.4.0). If you see errors or degraded performance, download a newer compatible model or retrain your custom model with the current spaCy version. For more details and available updates, run: python -m spacy validate\n",
            "  warnings.warn(warn_msg)\n"
          ]
        },
        {
          "name": "stdout",
          "output_type": "stream",
          "text": [
            "Apple\n",
            "is\n",
            "looking\n",
            "at\n",
            "buying\n",
            "U.K.\n",
            "startup\n",
            "for\n",
            "$\n",
            "1\n",
            "billion\n"
          ]
        }
      ],
      "source": [
        "import spacy\n",
        "nlp = spacy.load(\"en_core_web_sm\")\n",
        "doc = nlp(\"Apple is looking at buying U.K. startup for $1 billion\")\n",
        "for token in doc:\n",
        "    print(token.text)"
      ]
    },
    {
      "cell_type": "code",
      "execution_count": null,
      "metadata": {
        "colab": {
          "base_uri": "https://localhost:8080/"
        },
        "id": "IE13pfE1NXaE",
        "outputId": "9c771c81-d0e2-4e4a-a9ef-ca730d57e6ba"
      },
      "outputs": [
        {
          "name": "stdout",
          "output_type": "stream",
          "text": [
            "2022-07-20 06:07:39.584580: E tensorflow/stream_executor/cuda/cuda_driver.cc:271] failed call to cuInit: CUDA_ERROR_NO_DEVICE: no CUDA-capable device is detected\n",
            "Looking in indexes: https://pypi.org/simple, https://us-python.pkg.dev/colab-wheels/public/simple/\n",
            "Collecting en-core-web-sm==3.4.0\n",
            "  Downloading https://github.com/explosion/spacy-models/releases/download/en_core_web_sm-3.4.0/en_core_web_sm-3.4.0-py3-none-any.whl (12.8 MB)\n",
            "\u001b[K     |████████████████████████████████| 12.8 MB 5.4 MB/s \n",
            "\u001b[?25hRequirement already satisfied: spacy<3.5.0,>=3.4.0 in /usr/local/lib/python3.7/dist-packages (from en-core-web-sm==3.4.0) (3.4.0)\n",
            "Requirement already satisfied: pathy>=0.3.5 in /usr/local/lib/python3.7/dist-packages (from spacy<3.5.0,>=3.4.0->en-core-web-sm==3.4.0) (0.6.2)\n",
            "Requirement already satisfied: langcodes<4.0.0,>=3.2.0 in /usr/local/lib/python3.7/dist-packages (from spacy<3.5.0,>=3.4.0->en-core-web-sm==3.4.0) (3.3.0)\n",
            "Requirement already satisfied: setuptools in /usr/local/lib/python3.7/dist-packages (from spacy<3.5.0,>=3.4.0->en-core-web-sm==3.4.0) (57.4.0)\n",
            "Requirement already satisfied: pydantic!=1.8,!=1.8.1,<1.10.0,>=1.7.4 in /usr/local/lib/python3.7/dist-packages (from spacy<3.5.0,>=3.4.0->en-core-web-sm==3.4.0) (1.8.2)\n",
            "Requirement already satisfied: spacy-loggers<2.0.0,>=1.0.0 in /usr/local/lib/python3.7/dist-packages (from spacy<3.5.0,>=3.4.0->en-core-web-sm==3.4.0) (1.0.2)\n",
            "Requirement already satisfied: cymem<2.1.0,>=2.0.2 in /usr/local/lib/python3.7/dist-packages (from spacy<3.5.0,>=3.4.0->en-core-web-sm==3.4.0) (2.0.6)\n",
            "Requirement already satisfied: numpy>=1.15.0 in /usr/local/lib/python3.7/dist-packages (from spacy<3.5.0,>=3.4.0->en-core-web-sm==3.4.0) (1.21.6)\n",
            "Requirement already satisfied: packaging>=20.0 in /usr/local/lib/python3.7/dist-packages (from spacy<3.5.0,>=3.4.0->en-core-web-sm==3.4.0) (21.3)\n",
            "Requirement already satisfied: catalogue<2.1.0,>=2.0.6 in /usr/local/lib/python3.7/dist-packages (from spacy<3.5.0,>=3.4.0->en-core-web-sm==3.4.0) (2.0.7)\n",
            "Requirement already satisfied: wasabi<1.1.0,>=0.9.1 in /usr/local/lib/python3.7/dist-packages (from spacy<3.5.0,>=3.4.0->en-core-web-sm==3.4.0) (0.9.1)\n",
            "Requirement already satisfied: jinja2 in /usr/local/lib/python3.7/dist-packages (from spacy<3.5.0,>=3.4.0->en-core-web-sm==3.4.0) (2.11.3)\n",
            "Requirement already satisfied: tqdm<5.0.0,>=4.38.0 in /usr/local/lib/python3.7/dist-packages (from spacy<3.5.0,>=3.4.0->en-core-web-sm==3.4.0) (4.64.0)\n",
            "Requirement already satisfied: srsly<3.0.0,>=2.4.3 in /usr/local/lib/python3.7/dist-packages (from spacy<3.5.0,>=3.4.0->en-core-web-sm==3.4.0) (2.4.3)\n",
            "Requirement already satisfied: thinc<8.2.0,>=8.1.0 in /usr/local/lib/python3.7/dist-packages (from spacy<3.5.0,>=3.4.0->en-core-web-sm==3.4.0) (8.1.0)\n",
            "Requirement already satisfied: typing-extensions<4.2.0,>=3.7.4 in /usr/local/lib/python3.7/dist-packages (from spacy<3.5.0,>=3.4.0->en-core-web-sm==3.4.0) (4.1.1)\n",
            "Requirement already satisfied: requests<3.0.0,>=2.13.0 in /usr/local/lib/python3.7/dist-packages (from spacy<3.5.0,>=3.4.0->en-core-web-sm==3.4.0) (2.23.0)\n",
            "Requirement already satisfied: murmurhash<1.1.0,>=0.28.0 in /usr/local/lib/python3.7/dist-packages (from spacy<3.5.0,>=3.4.0->en-core-web-sm==3.4.0) (1.0.7)\n",
            "Requirement already satisfied: typer<0.5.0,>=0.3.0 in /usr/local/lib/python3.7/dist-packages (from spacy<3.5.0,>=3.4.0->en-core-web-sm==3.4.0) (0.4.2)\n",
            "Requirement already satisfied: preshed<3.1.0,>=3.0.2 in /usr/local/lib/python3.7/dist-packages (from spacy<3.5.0,>=3.4.0->en-core-web-sm==3.4.0) (3.0.6)\n",
            "Requirement already satisfied: spacy-legacy<3.1.0,>=3.0.9 in /usr/local/lib/python3.7/dist-packages (from spacy<3.5.0,>=3.4.0->en-core-web-sm==3.4.0) (3.0.9)\n",
            "Requirement already satisfied: zipp>=0.5 in /usr/local/lib/python3.7/dist-packages (from catalogue<2.1.0,>=2.0.6->spacy<3.5.0,>=3.4.0->en-core-web-sm==3.4.0) (3.8.0)\n",
            "Requirement already satisfied: pyparsing!=3.0.5,>=2.0.2 in /usr/local/lib/python3.7/dist-packages (from packaging>=20.0->spacy<3.5.0,>=3.4.0->en-core-web-sm==3.4.0) (3.0.9)\n",
            "Requirement already satisfied: smart-open<6.0.0,>=5.2.1 in /usr/local/lib/python3.7/dist-packages (from pathy>=0.3.5->spacy<3.5.0,>=3.4.0->en-core-web-sm==3.4.0) (5.2.1)\n",
            "Requirement already satisfied: urllib3!=1.25.0,!=1.25.1,<1.26,>=1.21.1 in /usr/local/lib/python3.7/dist-packages (from requests<3.0.0,>=2.13.0->spacy<3.5.0,>=3.4.0->en-core-web-sm==3.4.0) (1.24.3)\n",
            "Requirement already satisfied: idna<3,>=2.5 in /usr/local/lib/python3.7/dist-packages (from requests<3.0.0,>=2.13.0->spacy<3.5.0,>=3.4.0->en-core-web-sm==3.4.0) (2.10)\n",
            "Requirement already satisfied: chardet<4,>=3.0.2 in /usr/local/lib/python3.7/dist-packages (from requests<3.0.0,>=2.13.0->spacy<3.5.0,>=3.4.0->en-core-web-sm==3.4.0) (3.0.4)\n",
            "Requirement already satisfied: certifi>=2017.4.17 in /usr/local/lib/python3.7/dist-packages (from requests<3.0.0,>=2.13.0->spacy<3.5.0,>=3.4.0->en-core-web-sm==3.4.0) (2022.6.15)\n",
            "Requirement already satisfied: blis<0.8.0,>=0.7.8 in /usr/local/lib/python3.7/dist-packages (from thinc<8.2.0,>=8.1.0->spacy<3.5.0,>=3.4.0->en-core-web-sm==3.4.0) (0.7.8)\n",
            "Requirement already satisfied: click<9.0.0,>=7.1.1 in /usr/local/lib/python3.7/dist-packages (from typer<0.5.0,>=0.3.0->spacy<3.5.0,>=3.4.0->en-core-web-sm==3.4.0) (7.1.2)\n",
            "Requirement already satisfied: MarkupSafe>=0.23 in /usr/local/lib/python3.7/dist-packages (from jinja2->spacy<3.5.0,>=3.4.0->en-core-web-sm==3.4.0) (2.0.1)\n",
            "Installing collected packages: en-core-web-sm\n",
            "  Attempting uninstall: en-core-web-sm\n",
            "    Found existing installation: en-core-web-sm 3.3.0\n",
            "    Uninstalling en-core-web-sm-3.3.0:\n",
            "      Successfully uninstalled en-core-web-sm-3.3.0\n",
            "Successfully installed en-core-web-sm-3.4.0\n",
            "\u001b[38;5;2m✔ Download and installation successful\u001b[0m\n",
            "You can now load the package via spacy.load('en_core_web_sm')\n"
          ]
        }
      ],
      "source": [
        "!python -m spacy download en_core_web_sm\n"
      ]
    },
    {
      "cell_type": "markdown",
      "metadata": {
        "id": "6DfM_ysmOPVv"
      },
      "source": [
        "Removing stopwords\n"
      ]
    },
    {
      "cell_type": "code",
      "execution_count": null,
      "metadata": {
        "colab": {
          "base_uri": "https://localhost:8080/"
        },
        "id": "yf5ltvOtN_my",
        "outputId": "0b631a8c-3611-443f-b067-953822c7d2fa"
      },
      "outputs": [
        {
          "output_type": "stream",
          "name": "stdout",
          "text": [
            "['this', 'is', 'a', 'cool', 'example', ',', 'showing', 'off', 'the', 'answers']\n",
            "['cool', 'example', ',', 'showing', 'answers']\n"
          ]
        }
      ],
      "source": [
        "from nltk.corpus import stopwords\n",
        "from nltk.tokenize import word_tokenize\n",
        "\n",
        "example_sent = \"this is a cool example, showing off the answers\"\n",
        "stop_words = set(stopwords.words(\"english\"))\n",
        "word_tokens = word_tokenize(example_sent)\n",
        "filtered_sentence =[ w for w in word_tokens if not w in stop_words]\n",
        "filtered_sentence = []\n",
        "for w in word_tokens:\n",
        "  if w not in stop_words:\n",
        "    filtered_sentence.append(w)\n",
        "print(word_tokens)\n",
        "print(filtered_sentence)"
      ]
    },
    {
      "cell_type": "code",
      "execution_count": null,
      "metadata": {
        "id": "giN9UZvLPSJo",
        "colab": {
          "base_uri": "https://localhost:8080/"
        },
        "outputId": "0b0893cd-4716-47dc-e19c-639e733c7fa3"
      },
      "outputs": [
        {
          "output_type": "stream",
          "name": "stdout",
          "text": [
            "Tokens:  {'these', 'earphones', 'automatically', 'Do', 'It', 'disconnect', 'and', 'product', 'not', 'Worst', 'buy', 'to', 'will', 'reconnect', 'purchase'}\n",
            "Filtered Tokens:  {'earphones', 'automatically', 'Do', 'It', 'disconnect', 'product', 'Worst', 'buy', 'reconnect', 'purchase'}\n"
          ]
        }
      ],
      "source": [
        "from textblob import TextBlob\n",
        "from nltk.corpus import stopwords\n",
        "\n",
        "b=\"Do not purchase these earphones. It will automatically disconnect and reconnect. Worst product to buy.\"\n",
        "text=TextBlob(b)\n",
        "\n",
        "# Tokens\n",
        "tokens=set(text.words)\n",
        "print(\"Tokens: \",tokens)\n",
        "# stopwords\n",
        "stop=set(stopwords.words(\"english\"))\n",
        "\n",
        "# Removing stop words using set difference operation\n",
        "print(\"Filtered Tokens: \",tokens-stop)"
      ]
    },
    {
      "cell_type": "code",
      "source": [
        "import spacy\n",
        "#loading the english language small model of spacy\n",
        "en = spacy.load('en_core_web_sm')\n",
        "stopwords = en.Defaults.stop_words\n",
        "\n",
        "text = \"Do not purchase these earphones. It will automatically disconnect and reconnect. Worst product to buy.\"\n",
        "\n",
        "lst=[]\n",
        "for token in text.split():\n",
        "    if token.lower() not in stopwords:    #checking whether the word is not \n",
        "        lst.append(token)                    #present in the stopword list.\n",
        "        \n",
        "#Join items in the list\n",
        "print(\"Original text  : \",text)\n"
      ],
      "metadata": {
        "colab": {
          "base_uri": "https://localhost:8080/"
        },
        "id": "E7n3EJxITl2n",
        "outputId": "d2cbd9de-eeb6-4fcf-901d-417d135845fe"
      },
      "execution_count": null,
      "outputs": [
        {
          "output_type": "stream",
          "name": "stdout",
          "text": [
            "Original text  :  Do not purchase these earphones. It will automatically disconnect and reconnect. Worst product to buy.\n"
          ]
        }
      ]
    },
    {
      "cell_type": "code",
      "source": [
        "import spacy\n",
        "nlp = spacy.load('en_core_web_sm')\n",
        "\n",
        "doc = nlp('this bookings process is hectic')\n",
        "for token in doc:\n",
        "    print(token.text, token.lemma_)\n",
        "######################3\n",
        "from nltk.stem import PorterStemmer\n",
        "from nltk.tokenize import sent_tokenize, word_tokenize\n",
        "\n",
        "ps = PorterStemmer()\n",
        "example_words = [\"python\",\"pythoner\",\"pythoning\",\"pythoned\",\"pythonly\",\"lovely\",\"commisoner\",\"properly\"]\n",
        "for w in example_words:\n",
        "    print(ps.stem(w))"
      ],
      "metadata": {
        "colab": {
          "base_uri": "https://localhost:8080/"
        },
        "id": "eMaprgxYTsLr",
        "outputId": "09887aa2-d582-4657-9816-30c1df473db2"
      },
      "execution_count": null,
      "outputs": [
        {
          "output_type": "stream",
          "name": "stdout",
          "text": [
            "this this\n",
            "bookings booking\n",
            "process process\n",
            "is be\n",
            "hectic hectic\n",
            "python\n",
            "python\n",
            "python\n",
            "python\n",
            "pythonli\n",
            "love\n",
            "commison\n",
            "properli\n"
          ]
        }
      ]
    },
    {
      "cell_type": "code",
      "source": [
        "import spacy\n",
        "\n",
        "nlp = spacy.load(\"en_core_web_sm\")\n",
        "doc = nlp(\"Coronavirus: Delhi resident tests positive for coronavirus, total 31 people infected in India\")\n",
        "\n",
        "for ent in doc.ents:\n",
        "    print(ent.text, ent.start_char, ent.end_char, ent.label_)"
      ],
      "metadata": {
        "colab": {
          "base_uri": "https://localhost:8080/"
        },
        "id": "u84uMeN7TxTd",
        "outputId": "84527faa-62ec-4353-e1da-3721cc1fd887"
      },
      "execution_count": null,
      "outputs": [
        {
          "output_type": "stream",
          "name": "stdout",
          "text": [
            "Delhi 13 18 GPE\n",
            "31 66 68 CARDINAL\n",
            "India 88 93 GPE\n"
          ]
        }
      ]
    },
    {
      "cell_type": "code",
      "source": [
        "\n",
        "\n",
        "import spacy\n",
        "from spacy import displacy\n",
        "\n",
        "NER = spacy.load(\"en_core_web_sm\")\n",
        "raw_text=\"The Indian Space Research Organisation or is the national space agency of India, headquartered in Bengaluru. It operates under Department of Space which is directly overseen by the Prime Minister of India while Chairman of ISRO acts as executive of DOS as well.\"\n",
        "text1= NER(raw_text)\n",
        "for word in text1.ents:\n",
        "    print(word.text,word.label_)"
      ],
      "metadata": {
        "id": "IuRCvuvaWYIj",
        "colab": {
          "base_uri": "https://localhost:8080/"
        },
        "outputId": "5974cd0d-3b70-49d7-b7eb-2bcf1b74c59a"
      },
      "execution_count": null,
      "outputs": [
        {
          "output_type": "stream",
          "name": "stdout",
          "text": [
            "The Indian Space Research Organisation ORG\n",
            "India GPE\n",
            "Bengaluru ORG\n",
            "Department of Space ORG\n",
            "India GPE\n"
          ]
        }
      ]
    },
    {
      "cell_type": "markdown",
      "source": [
        "Speech recog"
      ],
      "metadata": {
        "id": "sBJ_wy7aZJmU"
      }
    },
    {
      "cell_type": "code",
      "source": [
        "pip install speechRecognition"
      ],
      "metadata": {
        "colab": {
          "base_uri": "https://localhost:8080/"
        },
        "id": "SuE1ExxYYph3",
        "outputId": "f053b923-f45d-4796-c204-17cf7ae7cd4c"
      },
      "execution_count": null,
      "outputs": [
        {
          "output_type": "stream",
          "name": "stdout",
          "text": [
            "Looking in indexes: https://pypi.org/simple, https://us-python.pkg.dev/colab-wheels/public/simple/\n",
            "Collecting speechRecognition\n",
            "  Downloading SpeechRecognition-3.8.1-py2.py3-none-any.whl (32.8 MB)\n",
            "\u001b[K     |████████████████████████████████| 32.8 MB 196 kB/s \n",
            "\u001b[?25hInstalling collected packages: speechRecognition\n",
            "Successfully installed speechRecognition-3.8.1\n"
          ]
        }
      ]
    },
    {
      "cell_type": "code",
      "source": [
        "pip install gtts\n"
      ],
      "metadata": {
        "colab": {
          "base_uri": "https://localhost:8080/"
        },
        "id": "TaqtQ5sTZRg_",
        "outputId": "eeff537d-46d5-42b4-9c06-f8fa22ab37c8"
      },
      "execution_count": null,
      "outputs": [
        {
          "output_type": "stream",
          "name": "stdout",
          "text": [
            "Looking in indexes: https://pypi.org/simple, https://us-python.pkg.dev/colab-wheels/public/simple/\n",
            "Collecting gtts\n",
            "  Downloading gTTS-2.2.4-py3-none-any.whl (26 kB)\n",
            "Requirement already satisfied: requests in /usr/local/lib/python3.7/dist-packages (from gtts) (2.23.0)\n",
            "Requirement already satisfied: six in /usr/local/lib/python3.7/dist-packages (from gtts) (1.15.0)\n",
            "Requirement already satisfied: click in /usr/local/lib/python3.7/dist-packages (from gtts) (7.1.2)\n",
            "Requirement already satisfied: idna<3,>=2.5 in /usr/local/lib/python3.7/dist-packages (from requests->gtts) (2.10)\n",
            "Requirement already satisfied: urllib3!=1.25.0,!=1.25.1,<1.26,>=1.21.1 in /usr/local/lib/python3.7/dist-packages (from requests->gtts) (1.24.3)\n",
            "Requirement already satisfied: certifi>=2017.4.17 in /usr/local/lib/python3.7/dist-packages (from requests->gtts) (2022.6.15)\n",
            "Requirement already satisfied: chardet<4,>=3.0.2 in /usr/local/lib/python3.7/dist-packages (from requests->gtts) (3.0.4)\n",
            "Installing collected packages: gtts\n",
            "Successfully installed gtts-2.2.4\n"
          ]
        }
      ]
    },
    {
      "cell_type": "code",
      "source": [
        "from gtts import gTTS\n",
        "text_to_say=\"hello guys , its me the robot\"\n",
        "\n",
        "gTTS(text=text_to_say)\n",
        "\n",
        "language=\"en\"\n",
        "\n",
        "gtts_object=gTTS(text=text_to_say,lang=language)\n",
        "gtts_object.save(\"englishvoice.wav\")\n"
      ],
      "metadata": {
        "id": "UBcJe0IRZcot"
      },
      "execution_count": null,
      "outputs": []
    },
    {
      "cell_type": "code",
      "source": [
        "from IPython.display import Audio\n",
        "Audio(\"englishvoice.wav\")"
      ],
      "metadata": {
        "colab": {
          "base_uri": "https://localhost:8080/",
          "height": 76
        },
        "id": "QTfSo6G4ZfPB",
        "outputId": "07ce17a0-e2fc-4599-f01b-6138ae756432"
      },
      "execution_count": null,
      "outputs": [
        {
          "output_type": "execute_result",
          "data": {
            "text/plain": [
              "<IPython.lib.display.Audio object>"
            ],
            "text/html": [
              "\n",
              "                <audio controls=\"controls\" >\n",
              "                    <source src=\"data:audio/x-wav;base64,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\" type=\"audio/x-wav\" />\n",
              "                    Your browser does not support the audio element.\n",
              "                </audio>\n",
              "              "
            ]
          },
          "metadata": {},
          "execution_count": 76
        }
      ]
    },
    {
      "cell_type": "code",
      "source": [
        "import gtts as gt \n",
        "import os      \n",
        " \n",
        "TamilText=\"கற்க கசடறக் கற்பவை கற்றபின் நிற்க அதற்குத் தக.\"\n",
        "tts = gt.gTTS(text=TamilText, lang='ta')\n",
        "tts.save(\"tamilvoice.mp3\")\n",
        "os.system(\"Tamil-Audio.mp3\")\n",
        "Audio(\"tamilvoice.mp3\")"
      ],
      "metadata": {
        "colab": {
          "base_uri": "https://localhost:8080/",
          "height": 76
        },
        "id": "JybEaM17aA4C",
        "outputId": "88bca7cb-061c-401c-d233-e254e8fb15c9"
      },
      "execution_count": null,
      "outputs": [
        {
          "output_type": "execute_result",
          "data": {
            "text/plain": [
              "<IPython.lib.display.Audio object>"
            ],
            "text/html": [
              "\n",
              "                <audio controls=\"controls\" >\n",
              "                    <source src=\"data:audio/mpeg;base64,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\" type=\"audio/mpeg\" />\n",
              "                    Your browser does not support the audio element.\n",
              "                </audio>\n",
              "              "
            ]
          },
          "metadata": {},
          "execution_count": 80
        }
      ]
    },
    {
      "cell_type": "code",
      "source": [
        ""
      ],
      "metadata": {
        "id": "JKztPxiqbvvT"
      },
      "execution_count": null,
      "outputs": []
    }
  ],
  "metadata": {
    "colab": {
      "name": "NLP audio translation",
      "provenance": [],
      "collapsed_sections": []
    },
    "kernelspec": {
      "display_name": "Python 3",
      "name": "python3"
    },
    "language_info": {
      "name": "python"
    }
  },
  "nbformat": 4,
  "nbformat_minor": 0
}